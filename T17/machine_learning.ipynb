{
 "cells": [
  {
   "cell_type": "markdown",
   "metadata": {
    "id": "IBb6nSAY5T4I"
   },
   "source": [
    "# Machine Learning"
   ]
  },
  {
   "cell_type": "markdown",
   "metadata": {
    "id": "N02Qu9_f1N45"
   },
   "source": [
    "1. For each of the following examples describe at least one possible input and\n",
    "output. Justify your answers:  \n",
    "* 1.1 A self-driving car\n",
    "* 1.2 Netflix recommendation system\n",
    "* 1.3 Signature recognition\n",
    "* 1.4 Medical diagnosis\n"
   ]
  },
  {
   "cell_type": "markdown",
   "metadata": {
    "id": "-8aBqprP3ypo"
   },
   "source": [
    "1. Answer here\n",
    "\n",
    "|      | Input(s)    | Output     |\n",
    "| ---- | ----------- | ---------  |\n",
    "| 1.1  |   recognized object          |    actual object        |\n",
    "| 1.2  |    previously watched series         |      predicted recommendations      |\n",
    "| 1.3  |    signature image        |     text form       |\n",
    "| 1.4  |      past symptoms       |      diagnosis      |"
   ]
  },
  {
   "cell_type": "markdown",
   "metadata": {
    "id": "l_I2f4C85yNF"
   },
   "source": [
    "\n",
    "2. For each of the following case studies, determine whether it is appropriate to utilise regression or classification machine learning algorithms. Justify your answers:\n",
    "* 2.1 Classifying emails as promotion or social based on their content and metadata.\n",
    "* 2.2 Forecasting the stock price of a company based on historical data and market trends.\n",
    "* 2.3 Sorting images of animals into different species based on their visual features.\n",
    "* 2.4 Predicting the likelihood of a patient having a particular disease based on medical history and diagnostic test results."
   ]
  },
  {
   "cell_type": "markdown",
   "metadata": {
    "id": "WgMUsqQr6qFU"
   },
   "source": [
    "2. Answer here\n",
    "* 2.1 classification, because you are trying to classify an unknown email into one of the known categories\n",
    "* 2.2 regression, because stock price is continuous, changes with frequent ticks and has not got discrete outcomes\n",
    "* 2.3 classification, because you are trying to fit an image into a known category\n",
    "* 2.4 classification, because the outcome (which disease the patient has) is a discrete category, not a continuous value"
   ]
  },
  {
   "cell_type": "markdown",
   "metadata": {
    "id": "b6f8UETG64hH"
   },
   "source": [
    "3. For each of the following real-world problems, determine whether it is appropriate to utilise a supervised or unsupervised machine learning algorithm. Justify your answers:\n",
    "* 3.1 Detecting anomalies in a manufacturing process using sensor data without prior knowledge of specific anomaly patterns.\n",
    "* 3.2 Predicting customer lifetime value based on historical transaction data and customer demographics.\n",
    "* 3.3 Segmenting customer demographics based on their purchase history, browsing behaviour, and preferences.\n",
    "* 3.4 Analysing social media posts to categorise them into different themes.\n"
   ]
  },
  {
   "cell_type": "markdown",
   "metadata": {
    "id": "W6dTYBvd675O"
   },
   "source": [
    "3. Answer here\n",
    "* 3.1 unsupervised, because anomaly patterns can be identified by the algorithm. supervised relies on having some known pattern\n",
    "* 3.2 supervised, because you have past historical data and demographics with some known qualities which can be used to predict patterns in future customers, and customers displaying a particular transaction pattern are likely to continue that pattern.\n",
    "* 3.3 supervised, because customers in particular demographics are likely to have similar lifestyles and interests, so it's realistic to base predictions off of patterns displayed by similar people using similar labels\n",
    "* 3.4 unsupervised, because social media posts can be something new that hasn't been seen before with no particular relationship to prior posts, therefore the algorithm needs to be able to pick up on new trends on its own"
   ]
  },
  {
   "cell_type": "markdown",
   "metadata": {
    "id": "bqsun96o64xe"
   },
   "source": [
    "4.\n",
    "For each of the following real-world problems, determine whether it is appropriate to utilise semi-supervised machine learning algorithms. Justify your answers:\n",
    "* 4.1 Predicting fraudulent financial transactions using a dataset where most transactions are labelled as fraudulent or legitimate.\n",
    "* 4.2 Analysing customer satisfaction surveys where only a small portion of the data is labelled with satisfaction ratings.\n",
    "* 4.3 Identifying spam emails in a dataset where the majority of emails are labelled.\n",
    "* 4.4 Predicting the probability of default for credit card applicants based on their complete financial and credit-related information.\n"
   ]
  },
  {
   "cell_type": "markdown",
   "metadata": {
    "id": "aTWugZ6q68GF"
   },
   "source": [
    "4. Answer here\n",
    "* 4.1 yes, because most data is labelled which can be used to feed the supervised learning algorithm to make predictions, but as new fraudulent methods are developed the algorithm may need to learn to identify new patterns on its own \n",
    "* 4.2 yes, because only a small portion is labelled with satisfaction ratings, that dataset can be used for a training and test set for a supervised learning method, but it may not be large enough a sample to represent and predict for the entire dataset, so an unsupervised learning method may need to analyze the un-labelled data to confirm that the predictions made are accurate\n",
    "* 4.3 yes, the unsupervised learning method can find new patterns in spam emails as they become more sophisticated, while being well-grounded in predictions made on the majority of the labelled dataset using the supervised method. this benefits from both\n",
    "* 4.4 supervised learning is suitable for this as there is evidence present for an individual's financial state over a long period of time (takes 180 days to default). Semi-supervised may not be necessary for this"
   ]
  }
 ],
 "metadata": {
  "colab": {
   "provenance": []
  },
  "kernelspec": {
   "display_name": "Python 3 (ipykernel)",
   "language": "python",
   "name": "python3"
  },
  "language_info": {
   "codemirror_mode": {
    "name": "ipython",
    "version": 3
   },
   "file_extension": ".py",
   "mimetype": "text/x-python",
   "name": "python",
   "nbconvert_exporter": "python",
   "pygments_lexer": "ipython3",
   "version": "3.11.0"
  }
 },
 "nbformat": 4,
 "nbformat_minor": 4
}
